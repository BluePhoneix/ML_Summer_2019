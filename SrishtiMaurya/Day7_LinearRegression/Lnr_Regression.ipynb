{
 "cells": [
  {
   "cell_type": "code",
   "execution_count": 5,
   "metadata": {},
   "outputs": [
    {
     "name": "stdout",
     "output_type": "stream",
     "text": [
      "Estimated coefficients: \n",
      "b0 = 1.0545454545454547  \n",
      "b1 = 1.187878787878788\n"
     ]
    },
    {
     "data": {
      "image/png": "[encoded data removed]",
      "text/plain": [
       "<Figure size 432x288 with 1 Axes>"
      ]
     },
     "metadata": {
      "needs_background": "light"
     },
     "output_type": "display_data"
    }
   ],
   "source": [
    "import numpy as np\n",
    "import matplotlib.pyplot as plt\n",
    "\n",
    "def estimate_coef(x, y):\n",
    "    #total no. of observations points\n",
    "    n = np.size(x)\n",
    "    \n",
    "    #mean of x and y vector\n",
    "    mx, my = np.mean(x), np.mean(y)\n",
    "    \n",
    "    #calculating cross-deviation and deviation about x\n",
    "    SS_xy = np.sum(y*x) - n*my*mx\n",
    "    SS_xx = np.sum(x*x) - n*mx*mx\n",
    "    \n",
    "    # calculating regression coefficients\n",
    "    b1 = SS_xy / SS_xx\n",
    "    b0 = my - b1*mx\n",
    "    \n",
    "    return(b0, b1)\n",
    "\n",
    "def plot_regression_line(x, y, b):\n",
    "    #plottin the actual scatter points\n",
    "    plt.scatter(x, y, color=\"m\", marker=\"o\", s = 30)\n",
    "    \n",
    "    #predicted response vector\n",
    "    y_pred = b[0] + b[1]*x\n",
    "    \n",
    "    #plotting the regression line\n",
    "    plt.plot(x, y_pred, color=\"red\")\n",
    "    \n",
    "    plt.xlabel('x')\n",
    "    plt.ylabel('y')\n",
    "    plt.show()\n",
    "    \n",
    "def main():\n",
    "    #observations\n",
    "    \n",
    "    \n",
    "    x = np.array([0,1,2,3,4,5,6,7,8,9])\n",
    "    y = np.array([1,3,2,4,7,8,8,9,10,12])\n",
    "    \n",
    "    #estimating coefficients,\n",
    "    b = estimate_coef(x, y)\n",
    "    print(\"Estimated coefficients: \\nb0 = {}  \\nb1 = {}\".format(b[0], b[1]))\n",
    "    \n",
    "    #plotting regression line\n",
    "    plot_regression_line(x, y, b)\n",
    "    \n",
    "if __name__==\"__main__\":\n",
    "    main()\n"
   ]
  },
  {
   "cell_type": "code",
   "execution_count": null,
   "metadata": {},
   "outputs": [],
   "source": []
  }
 ],
 "metadata": {
  "kernelspec": {
   "display_name": "Python 3",
   "language": "python",
   "name": "python3"
  },
  "language_info": {
   "codemirror_mode": {
    "name": "ipython",
    "version": 3
   },
   "file_extension": ".py",
   "mimetype": "text/x-python",
   "name": "python",
   "nbconvert_exporter": "python",
   "pygments_lexer": "ipython3",
   "version": "3.7.1"
  }
 },
 "nbformat": 4,
 "nbformat_minor": 2
}
