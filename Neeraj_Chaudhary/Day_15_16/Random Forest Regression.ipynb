{
 "cells": [
  {
   "cell_type": "code",
   "execution_count": null,
   "metadata": {},
   "outputs": [],
   "source": [
    "import graphlab as gl\n",
    "# Load the data\n",
    "data =  gl.SFrame.read_csv('https://static.turi.com/datasets/xgboost/mushroom.csv')\n",
    "# Label 'p' is edible\n",
    "data['label'] = data['label'] == 'p'\n",
    "# Make a train-test split\n",
    "train_data, test_data = data.random_split(0.8)\n",
    "# Create a model.\n",
    "model = gl.random_forest_regression.create(train_data, target='label',\n",
    "                                           max_iterations=2,\n",
    "                                           max_depth =  3)\n",
    "# Save predictions to an SArray\n",
    "predictions = model.predict(test_data)\n",
    "# Evaluate the model and save the results into a dictionary\n",
    "results = model.evaluate(test_data)"
   ]
  },
  {
   "cell_type": "code",
   "execution_count": null,
   "metadata": {},
   "outputs": [],
   "source": [
    "model.show(view=\"Tree\", tree_id=0)\n",
    "model.show(view=\"Tree\", tree_id=1)"
   ]
  }
 ],
 "metadata": {
  "kernelspec": {
   "display_name": "Python 3",
   "language": "python",
   "name": "python3"
  },
  "language_info": {
   "codemirror_mode": {
    "name": "ipython",
    "version": 3
   },
   "file_extension": ".py",
   "mimetype": "text/x-python",
   "name": "python",
   "nbconvert_exporter": "python",
   "pygments_lexer": "ipython3",
   "version": "3.7.3"
  }
 },
 "nbformat": 4,
 "nbformat_minor": 2
}
