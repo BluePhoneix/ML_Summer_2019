{
 "cells": [
  {
   "cell_type": "markdown",
   "metadata": {},
   "source": [
    "We can restrict the access to the variables and method is called as encapsulation\n",
    "OR\n",
    "The concept of binding(grouping )related data members along with its related functionalities is known as incapsulation....\n",
    "To prevent the data from being modified accidently.\n",
    "we can use __ to hide the variables and function"
   ]
  },
  {
   "cell_type": "code",
   "execution_count": 1,
   "metadata": {},
   "outputs": [
    {
     "name": "stdout",
     "output_type": "stream",
     "text": [
      "private method\n"
     ]
    }
   ],
   "source": [
    "class Nit():\n",
    "    def __pri(self):\n",
    "        print(\"private method\")\n",
    "    def pub(self):\n",
    "        print(\"Public Method\")\n",
    "ob=Nit()\n",
    "ob._Nit__pri()"
   ]
  },
  {
   "cell_type": "code",
   "execution_count": 2,
   "metadata": {},
   "outputs": [
    {
     "name": "stdout",
     "output_type": "stream",
     "text": [
      "driving\n",
      "300\n",
      "driving\n",
      "300\n"
     ]
    }
   ],
   "source": [
    "class car:\n",
    "    __maxspeed=0\n",
    "    __time=0\n",
    "    def __init__(self):\n",
    "        self.__maxspeed=300\n",
    "        self.name=\"supercar\"\n",
    "    def drive(self):\n",
    "        print(\"driving\")\n",
    "        print(self.__maxspeed)\n",
    "bluecar=car()\n",
    "bluecar.drive()\n",
    "bluecar.__maxspeed=100\n",
    "bluecar.drive()"
   ]
  },
  {
   "cell_type": "markdown",
   "metadata": {},
   "source": [
    "Modular programming is the process of subdividing a computer program into seperate sub program.\n",
    "1-Readible code for future development\n",
    "2-creating basic small programs for integration into bigger programs.\n",
    "3-crass functional codes to reuse and not waste time to rewriting"
   ]
  },
  {
   "cell_type": "markdown",
   "metadata": {},
   "source": [
    "# Polymorphism"
   ]
  },
  {
   "cell_type": "markdown",
   "metadata": {},
   "source": [
    "1-poly means many and morphism means forms.2-Forms means functionalities or logics.3-the concept of defining multiple logic to perform same operation is known as polymorphism.4-Polymorphism is can be implemented using method overriding."
   ]
  },
  {
   "cell_type": "markdown",
   "metadata": {},
   "source": [
    "# Dynamic polymorphism :Method overriding"
   ]
  },
  {
   "cell_type": "markdown",
   "metadata": {},
   "source": [
    "It is the ability of a class to change the implemention of method provided by one of its ancestors"
   ]
  },
  {
   "cell_type": "code",
   "execution_count": 4,
   "metadata": {},
   "outputs": [
    {
     "name": "stdout",
     "output_type": "stream",
     "text": [
      "SonFirstName\n",
      "FatherLastName\n"
     ]
    }
   ],
   "source": [
    "class Father():\n",
    "    def Fname(self):\n",
    "        print(\"FatherFirstName\")\n",
    "    def Lname(self):\n",
    "        print(\"FatherLastName\")\n",
    "class Son(Father):\n",
    "    def Fname(self):\n",
    "        print(\"SonFirstName\")\n",
    "objson=Son()\n",
    "objson.Fname()\n",
    "objson.Lname()"
   ]
  },
  {
   "cell_type": "code",
   "execution_count": null,
   "metadata": {},
   "outputs": [],
   "source": []
  },
  {
   "cell_type": "markdown",
   "metadata": {},
   "source": [
    "# Static Polymorphism:Method Overloading"
   ]
  },
  {
   "cell_type": "markdown",
   "metadata": {},
   "source": [
    "Python does not support method Overloading ,it is dynamically typed language.If we try to overload function then last implemention is called"
   ]
  },
  {
   "cell_type": "markdown",
   "metadata": {},
   "source": [
    "# Operater Overloading"
   ]
  },
  {
   "cell_type": "markdown",
   "metadata": {},
   "source": [
    "# Assing extra work to operator is called operator overloading.You can change the meaning of an operator depending upon the operands used.That allow same operator to have different meaning according to the context is called operator overloading."
   ]
  },
  {
   "cell_type": "markdown",
   "metadata": {},
   "source": [
    "# Abstraction OR Data Hiding"
   ]
  },
  {
   "cell_type": "markdown",
   "metadata": {},
   "source": [
    "The term encapsulation and abstraction are aften used as synonyms i.e abstraction is achieve through encapsulation.We use double underscore before the attribute name and those attributes will not be directly visible outside.ABSTRACTION IS UDED TO HIDE INTERNAL DETAILS AND SHOW ONLY FUNCTIONALITIES."
   ]
  },
  {
   "cell_type": "markdown",
   "metadata": {},
   "source": [
    "A abstract class ...it is a kind of class ,where we do not create any object,it never instanciated."
   ]
  },
  {
   "cell_type": "code",
   "execution_count": 6,
   "metadata": {},
   "outputs": [
    {
     "ename": "ImportError",
     "evalue": "cannot import name ABC",
     "output_type": "error",
     "traceback": [
      "\u001b[1;31m\u001b[0m",
      "\u001b[1;31mImportError\u001b[0mTraceback (most recent call last)",
      "\u001b[1;32m<ipython-input-6-e57fdb1aefca>\u001b[0m in \u001b[0;36m<module>\u001b[1;34m()\u001b[0m\n\u001b[1;32m----> 1\u001b[1;33m \u001b[1;32mfrom\u001b[0m \u001b[0mabc\u001b[0m \u001b[1;32mimport\u001b[0m \u001b[0mABC\u001b[0m\u001b[1;33m,\u001b[0m\u001b[0mabstractmethod\u001b[0m\u001b[1;33m\u001b[0m\u001b[0m\n\u001b[0m\u001b[0;32m      2\u001b[0m \u001b[1;32mclass\u001b[0m \u001b[0mAnimal\u001b[0m\u001b[1;33m(\u001b[0m\u001b[0mABC\u001b[0m\u001b[1;33m)\u001b[0m\u001b[1;33m:\u001b[0m\u001b[1;33m\u001b[0m\u001b[0m\n\u001b[0;32m      3\u001b[0m     \u001b[1;33m@\u001b[0m\u001b[0mabstractmethod\u001b[0m\u001b[1;33m\u001b[0m\u001b[0m\n\u001b[0;32m      4\u001b[0m     \u001b[1;32mdef\u001b[0m \u001b[0mmove\u001b[0m\u001b[1;33m(\u001b[0m\u001b[1;33m)\u001b[0m\u001b[1;33m:\u001b[0m\u001b[1;33m\u001b[0m\u001b[0m\n\u001b[0;32m      5\u001b[0m         \u001b[1;32mpass\u001b[0m\u001b[1;33m\u001b[0m\u001b[0m\n",
      "\u001b[1;31mImportError\u001b[0m: cannot import name ABC"
     ]
    }
   ],
   "source": [
    "from abc import ABC,abstractmethod\n",
    "class Animal(ABC):\n",
    "    @abstractmethod\n",
    "    def move():\n",
    "        pass\n",
    "class Human(Animal):\n",
    "    def move(self):\n",
    "        print(\"I can walk and Run..\")\n",
    "class snake(Animal):\n",
    "    def move(self):\n",
    "        print(\"I can crawl only...\")\n",
    "\n",
    "h1=Human()\n",
    "h1.move()\n",
    "s1=Snake()\n",
    "s1.move()"
   ]
  },
  {
   "cell_type": "markdown",
   "metadata": {},
   "source": [
    "# Multithreading"
   ]
  },
  {
   "cell_type": "markdown",
   "metadata": {},
   "source": [
    "Threading allows multiple tasks run concurrently on independently.It provide a way to improve application performance through parallelism.Threads can be thought of as aseperate program running along side each other.However they can run within one process they can share data between one anothereasier than actual seperate program."
   ]
  },
  {
   "cell_type": "code",
   "execution_count": 2,
   "metadata": {},
   "outputs": [
    {
     "name": "stdout",
     "output_type": "stream",
     "text": [
      "calculate square of numbers\n",
      "('square ', 4)\n",
      "('square ', 9)\n",
      "('square ', 64)\n",
      "('square ', 81)\n",
      "calculate cube of numbers\n",
      "('cube ', 8)\n",
      "('cube ', 27)\n",
      "('cube ', 512)\n",
      "('cube ', 729)\n",
      "('done in', 1.6299998760223389)\n",
      "hi i am done with all my work\n"
     ]
    }
   ],
   "source": [
    "import time \n",
    "def calc_square(numbers):\n",
    "    print(\"calculate square of numbers\")\n",
    "    for i in numbers:\n",
    "        time.sleep(0.2)\n",
    "        print('square ',i*i)\n",
    "def calc_cube(numbers):\n",
    "    print(\"calculate cube of numbers\")\n",
    "    for i in numbers:\n",
    "        time.sleep(0.2)\n",
    "        print('cube ',i*i*i)\n",
    "\n",
    "arr=[2,3,8,9]\n",
    "t=time.time()\n",
    "calc_square(arr)\n",
    "calc_cube(arr)\n",
    "print('done in',time.time()-t)\n",
    "print(\"hi i am done with all my work\")\n",
    "    \n",
    "        \n",
    "        "
   ]
  },
  {
   "cell_type": "markdown",
   "metadata": {},
   "source": [
    "1-we can define the functionality or logic as a thread by over riding thr 'run method of thread class\n",
    "2-'Thread' is a predefine class which is define in 'thread module'\n",
    "3-After defining the functionality or logic as a thread we can execute that logic by calling 'start()' of thread class"
   ]
  },
  {
   "cell_type": "code",
   "execution_count": 7,
   "metadata": {},
   "outputs": [
    {
     "name": "stdout",
     "output_type": "stream",
     "text": [
      "1\n",
      "2\n",
      "3\n",
      "4\n",
      "5\n",
      "1\n",
      "2\n",
      "3\n",
      "4\n",
      "5\n"
     ]
    }
   ],
   "source": [
    "import threading\n",
    "class Thread1(threading.Thread):\n",
    "    def run(self):\n",
    "        i=1\n",
    "        while i<=5:\n",
    "            print(i)\n",
    "            i=i+1\n",
    "class Thread2(threading.Thread):\n",
    "    def run(self):\n",
    "        i=1\n",
    "        while i<=5:\n",
    "            print(i)\n",
    "            i=i+1\n",
    "t1=Thread1()\n",
    "t2=Thread2()\n",
    "t1.start()\n",
    "t2.start()"
   ]
  },
  {
   "cell_type": "markdown",
   "metadata": {},
   "source": [
    "# Difference between Multiprocessing and Multithraeding"
   ]
  },
  {
   "cell_type": "markdown",
   "metadata": {},
   "source": [
    "Multi processing and multithreading both are ways to achive multitasking.The major difference between the two is that in mt treads are being executed in one process sharing common address space whereas in multi processing different process have different address space.thus creating multiple proces is costly compare to threads."
   ]
  },
  {
   "cell_type": "code",
   "execution_count": null,
   "metadata": {},
   "outputs": [],
   "source": []
  }
 ],
 "metadata": {
  "kernelspec": {
   "display_name": "Python 2",
   "language": "python",
   "name": "python2"
  },
  "language_info": {
   "codemirror_mode": {
    "name": "ipython",
    "version": 2
   },
   "file_extension": ".py",
   "mimetype": "text/x-python",
   "name": "python",
   "nbconvert_exporter": "python",
   "pygments_lexer": "ipython2",
   "version": "2.7.16"
  }
 },
 "nbformat": 4,
 "nbformat_minor": 2
}
