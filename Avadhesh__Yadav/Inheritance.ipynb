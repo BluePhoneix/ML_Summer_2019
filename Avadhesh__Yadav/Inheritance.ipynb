{
 "cells": [
  {
   "cell_type": "code",
   "execution_count": 1,
   "metadata": {},
   "outputs": [
    {
     "data": {
      "text/plain": [
       "'It is the process of inheriting properties of one class into another class without creating object of that class\\nthe class which inherit the properties is called child class or subclass and the class which properties is inherited \\nis called super class'"
      ]
     },
     "execution_count": 1,
     "metadata": {},
     "output_type": "execute_result"
    }
   ],
   "source": [
    "\"\"\"It is the process of inheriting properties of one class into another class without creating object of that class\n",
    "the class which inherit the properties is called child class or subclass and the class which properties is inherited \n",
    "is called super class\"\"\""
   ]
  },
  {
   "cell_type": "code",
   "execution_count": 2,
   "metadata": {},
   "outputs": [
    {
     "name": "stdout",
     "output_type": "stream",
     "text": [
      "puppy\n"
     ]
    }
   ],
   "source": [
    "class Animal():\n",
    "    def __init__(self,name):\n",
    "        self.name=name\n",
    "class dog(Animal):\n",
    "    def display(self):\n",
    "        print(self.name)\n",
    "d=dog(\"puppy\")\n",
    "d.display()"
   ]
  },
  {
   "cell_type": "code",
   "execution_count": 3,
   "metadata": {},
   "outputs": [
    {
     "name": "stdout",
     "output_type": "stream",
     "text": [
      "m() from class c\n"
     ]
    }
   ],
   "source": [
    "class A:\n",
    "    def m(self):\n",
    "        print(\"m() from class A\")\n",
    "class B:\n",
    "    def m(self):\n",
    "        print(\"m() from class B\")\n",
    "class C(B,A):\n",
    "    def m(self):\n",
    "        print(\"m() from class c\")\n",
    "              \n",
    "\n",
    "ob1 =C()\n",
    "ob1.m()\n",
    "              \n",
    "              "
   ]
  },
  {
   "cell_type": "code",
   "execution_count": 4,
   "metadata": {},
   "outputs": [
    {
     "name": "stdout",
     "output_type": "stream",
     "text": [
      "method from class D...\n",
      "method from class B...\n",
      "method from class A...\n",
      "method from class C...\n",
      "method from class A...\n",
      "method from class A...\n"
     ]
    }
   ],
   "source": [
    "class A:\n",
    "    def m(self):\n",
    "        print(\"method from class A...\")\n",
    "        \n",
    "class B(A):\n",
    "    def m(self):\n",
    "        print(\"method from class B...\")\n",
    "        A.m(self)\n",
    "        \n",
    "class C(A):\n",
    "    def m(self):\n",
    "        print(\"method from class C...\")\n",
    "        A.m(self)\n",
    "        \n",
    "class D(B,C):\n",
    "    def m(self):\n",
    "        print(\"method from class D...\")\n",
    "        B.m(self)\n",
    "        C.m(self)\n",
    "        A.m(self)\n",
    "        \n",
    "ob1=D()\n",
    "ob1.m()"
   ]
  },
  {
   "cell_type": "code",
   "execution_count": 6,
   "metadata": {},
   "outputs": [
    {
     "name": "stdout",
     "output_type": "stream",
     "text": [
      "method from class D...\n"
     ]
    },
    {
     "ename": "TypeError",
     "evalue": "super() takes at least 1 argument (0 given)",
     "output_type": "error",
     "traceback": [
      "\u001b[1;31m\u001b[0m",
      "\u001b[1;31mTypeError\u001b[0mTraceback (most recent call last)",
      "\u001b[1;32m<ipython-input-6-6be83cc8c026>\u001b[0m in \u001b[0;36m<module>\u001b[1;34m()\u001b[0m\n\u001b[0;32m     20\u001b[0m \u001b[1;33m\u001b[0m\u001b[0m\n\u001b[0;32m     21\u001b[0m \u001b[0mob1\u001b[0m\u001b[1;33m=\u001b[0m\u001b[0mD\u001b[0m\u001b[1;33m(\u001b[0m\u001b[1;33m)\u001b[0m\u001b[1;33m\u001b[0m\u001b[0m\n\u001b[1;32m---> 22\u001b[1;33m \u001b[0mob1\u001b[0m\u001b[1;33m.\u001b[0m\u001b[0mm\u001b[0m\u001b[1;33m(\u001b[0m\u001b[1;33m)\u001b[0m\u001b[1;33m\u001b[0m\u001b[0m\n\u001b[0m",
      "\u001b[1;32m<ipython-input-6-6be83cc8c026>\u001b[0m in \u001b[0;36mm\u001b[1;34m(self)\u001b[0m\n\u001b[0;32m     16\u001b[0m     \u001b[1;32mdef\u001b[0m \u001b[0mm\u001b[0m\u001b[1;33m(\u001b[0m\u001b[0mself\u001b[0m\u001b[1;33m)\u001b[0m\u001b[1;33m:\u001b[0m\u001b[1;33m\u001b[0m\u001b[0m\n\u001b[0;32m     17\u001b[0m         \u001b[1;32mprint\u001b[0m\u001b[1;33m(\u001b[0m\u001b[1;34m\"method from class D...\"\u001b[0m\u001b[1;33m)\u001b[0m\u001b[1;33m\u001b[0m\u001b[0m\n\u001b[1;32m---> 18\u001b[1;33m         \u001b[0msuper\u001b[0m\u001b[1;33m(\u001b[0m\u001b[1;33m)\u001b[0m\u001b[1;33m.\u001b[0m\u001b[0mB\u001b[0m\u001b[1;33m.\u001b[0m\u001b[0mm\u001b[0m\u001b[1;33m(\u001b[0m\u001b[1;33m)\u001b[0m\u001b[1;33m\u001b[0m\u001b[0m\n\u001b[0m\u001b[0;32m     19\u001b[0m \u001b[1;33m\u001b[0m\u001b[0m\n\u001b[0;32m     20\u001b[0m \u001b[1;33m\u001b[0m\u001b[0m\n",
      "\u001b[1;31mTypeError\u001b[0m: super() takes at least 1 argument (0 given)"
     ]
    }
   ],
   "source": [
    "class A:\n",
    "    def m(self):\n",
    "        print(\"method from class A...\")\n",
    "        \n",
    "class B(A):\n",
    "    def m(self):\n",
    "        print(\"method from class B...\")\n",
    "        super().m()\n",
    "        \n",
    "class C(A):\n",
    "    def m():\n",
    "        print(\"method from class C...\")\n",
    "        super().m(self)\n",
    "        \n",
    "class D(B,C):\n",
    "    def m(self):\n",
    "        print(\"method from class D...\")\n",
    "        super().B.m()\n",
    "    \n",
    "        \n",
    "ob1=D()\n",
    "ob1.m()"
   ]
  },
  {
   "cell_type": "code",
   "execution_count": null,
   "metadata": {},
   "outputs": [],
   "source": []
  }
 ],
 "metadata": {
  "kernelspec": {
   "display_name": "Python 2",
   "language": "python",
   "name": "python2"
  },
  "language_info": {
   "codemirror_mode": {
    "name": "ipython",
    "version": 2
   },
   "file_extension": ".py",
   "mimetype": "text/x-python",
   "name": "python",
   "nbconvert_exporter": "python",
   "pygments_lexer": "ipython2",
   "version": "2.7.16"
  }
 },
 "nbformat": 4,
 "nbformat_minor": 2
}
